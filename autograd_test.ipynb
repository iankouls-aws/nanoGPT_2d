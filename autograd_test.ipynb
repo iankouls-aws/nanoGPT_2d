{
 "cells": [
  {
   "cell_type": "code",
   "execution_count": 1,
   "metadata": {},
   "outputs": [],
   "source": [
    "import torch\n",
    "import torch.nn as nn"
   ]
  },
  {
   "cell_type": "code",
   "execution_count": 2,
   "metadata": {},
   "outputs": [
    {
     "ename": "IndentationError",
     "evalue": "expected an indented block (<ipython-input-2-31af40b1a860>, line 2)",
     "output_type": "error",
     "traceback": [
      "\u001b[0;36m  Cell \u001b[0;32mIn[2], line 2\u001b[0;36m\u001b[0m\n\u001b[0;31m    \u001b[0m\n\u001b[0m    ^\u001b[0m\n\u001b[0;31mIndentationError\u001b[0m\u001b[0;31m:\u001b[0m expected an indented block\n"
     ]
    }
   ],
   "source": [
    "class scalar_multiply(torch.autograd.Function):\n",
    "    \"\"\" \n",
    "    demonstrate 2x multiply on backwards \n",
    "    x,y,z = scalars\n",
    "    \"\"\"\n",
    "    def forward(self, x,y):\n",
    "        z = x*y\n",
    "        # have to store these for backward\n",
    "        self.x = x\n",
    "        self.y = y\n",
    "        return z\n",
    "\n",
    "    def backward(self, dz):\n",
    "        dx = self.y * dz  # dz/dx * dL/dz\n",
    "        dy = self.x * dz # dy/dx * dL/dz\n",
    "        return (dx, dy)\n",
    "        \n",
    "\n",
    "\n",
    "\n"
   ]
  },
  {
   "cell_type": "code",
   "execution_count": null,
   "metadata": {},
   "outputs": [],
   "source": []
  }
 ],
 "metadata": {
  "kernelspec": {
   "display_name": "base",
   "language": "python",
   "name": "python3"
  },
  "language_info": {
   "codemirror_mode": {
    "name": "ipython",
    "version": 3
   },
   "file_extension": ".py",
   "mimetype": "text/x-python",
   "name": "python",
   "nbconvert_exporter": "python",
   "pygments_lexer": "ipython3",
   "version": "3.9.12"
  },
  "orig_nbformat": 4
 },
 "nbformat": 4,
 "nbformat_minor": 2
}
